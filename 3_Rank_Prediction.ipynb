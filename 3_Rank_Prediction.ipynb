{
 "cells": [
  {
   "cell_type": "code",
   "execution_count": 3,
   "metadata": {},
   "outputs": [
    {
     "name": "stdout",
     "output_type": "stream",
     "text": [
      "Fitting 5 folds for each of 324 candidates, totalling 1620 fits\n",
      "Best Hyperparameters: {'max_depth': 10, 'max_features': 'sqrt', 'min_samples_leaf': 4, 'min_samples_split': 10, 'n_estimators': 200}\n",
      "Mean Absolute Error (MAE): 2376.6191153664795\n",
      "Root Mean Squared Error (RMSE): 2656.7308666864315\n",
      "R-squared (R2): -0.01301686123981205\n",
      "\n",
      "Feature Importance:\n",
      "                     Feature  Importance\n",
      "0                      score    0.259671\n",
      "3  difficulty_adjusted_score    0.250128\n",
      "2         correct_percentage    0.238460\n",
      "1                   accuracy    0.210466\n",
      "4               trophy_level    0.041275\n"
     ]
    }
   ],
   "source": [
    "import pandas as pd\n",
    "import numpy as np\n",
    "from sklearn.model_selection import train_test_split, cross_val_score, GridSearchCV\n",
    "from sklearn.ensemble import RandomForestRegressor\n",
    "from sklearn.metrics import mean_absolute_error, mean_squared_error, r2_score\n",
    "from sklearn.preprocessing import StandardScaler\n",
    "\n",
    "# Load the toy dataset\n",
    "file_path = \"neet_student_data.xlsx\"\n",
    "df = pd.read_excel(file_path)\n",
    "\n",
    "# Feature Engineering\n",
    "df['correct_percentage'] = df['correct_answers'] / df['total_questions'] * 100\n",
    "df['difficulty_adjusted_score'] = df['score'] * df['trophy_level']\n",
    "\n",
    "features = ['score', 'accuracy', 'correct_percentage', 'difficulty_adjusted_score', 'trophy_level']\n",
    "X = df[features]\n",
    "y = df['neet_rank']\n",
    "\n",
    "X = X.fillna(0)\n",
    "\n",
    "scaler = StandardScaler()\n",
    "X_scaled = scaler.fit_transform(X)\n",
    "\n",
    "# Split the data into training and testing sets\n",
    "X_train, X_test, y_train, y_test = train_test_split(X_scaled, y, test_size=0.2, random_state=42)\n",
    "\n",
    "# Hyperparameter Tuning using GridSearchCV\n",
    "param_grid = {\n",
    "    'n_estimators': [50, 100, 200],\n",
    "    'max_depth': [None, 10, 20, 30],\n",
    "    'min_samples_split': [2, 5, 10],\n",
    "    'min_samples_leaf': [1, 2, 4],\n",
    "    'max_features': ['sqrt', 'log2', None]\n",
    "}\n",
    "\n",
    "\n",
    "# Initialize RandomForestRegressor\n",
    "rf = RandomForestRegressor(random_state=42)\n",
    "\n",
    "# Grid search for best hyperparameters\n",
    "grid_search = GridSearchCV(estimator=rf, param_grid=param_grid, cv=5, n_jobs=-1, verbose=2)\n",
    "grid_search.fit(X_train, y_train)\n",
    "\n",
    "# Get the best model from grid search\n",
    "best_rf_model = grid_search.best_estimator_\n",
    "\n",
    "# Make predictions on the test set\n",
    "y_pred = best_rf_model.predict(X_test)\n",
    "\n",
    "# Evaluate the model\n",
    "mae = mean_absolute_error(y_test, y_pred)\n",
    "rmse = np.sqrt(mean_squared_error(y_test, y_pred))\n",
    "r2 = r2_score(y_test, y_pred)\n",
    "\n",
    "print(f\"Best Hyperparameters: {grid_search.best_params_}\")\n",
    "print(f\"Mean Absolute Error (MAE): {mae}\")\n",
    "print(f\"Root Mean Squared Error (RMSE): {rmse}\")\n",
    "print(f\"R-squared (R2): {r2}\")\n",
    "\n",
    "# Feature importance analysis (optional)\n",
    "importances = best_rf_model.feature_importances_\n",
    "feature_importance_df = pd.DataFrame({\n",
    "    'Feature': features,\n",
    "    'Importance': importances\n",
    "}).sort_values(by='Importance', ascending=False)\n",
    "\n",
    "print(\"\\nFeature Importance:\")\n",
    "print(feature_importance_df)\n"
   ]
  },
  {
   "cell_type": "code",
   "execution_count": null,
   "metadata": {},
   "outputs": [
    {
     "name": "stdout",
     "output_type": "stream",
     "text": [
      "Predicted rank is  4110\n"
     ]
    },
    {
     "name": "stderr",
     "output_type": "stream",
     "text": [
      "c:\\Users\\rajka\\miniforge3\\Lib\\site-packages\\sklearn\\base.py:486: UserWarning: X has feature names, but RandomForestRegressor was fitted without feature names\n",
      "  warnings.warn(\n",
      "C:\\Users\\rajka\\AppData\\Local\\Temp\\ipykernel_976\\1037085908.py:24: DeprecationWarning: Conversion of an array with ndim > 0 to a scalar is deprecated, and will error in future. Ensure you extract a single element from your array before performing this operation. (Deprecated NumPy 1.25.)\n",
      "  print(\"Predicted rank is \",int(predicted_neet_rank))\n"
     ]
    }
   ],
   "source": [
    "import streamlit as st\n",
    "import numpy as np\n",
    "import joblib\n",
    "\n",
    "# Load the trained model\n",
    "@st.cache_resource\n",
    "def load_model():\n",
    "    try:\n",
    "        model = joblib.load(\"best_rf_model.pkl\")\n",
    "        return model\n",
    "    except Exception as e:\n",
    "        st.error(f\"Error loading model: {e}\")\n",
    "        return None\n",
    "\n",
    "model = load_model()\n",
    "\n",
    "# Streamlit UI\n",
    "st.title(\"🎯 NEET Rank Prediction\")\n",
    "st.markdown(\"Enter the following features to predict the NEET rank.\")\n",
    "\n",
    "# Input fields for only the selected 5 features\n",
    "score = st.number_input(\"Score\", min_value=0.0)\n",
    "accuracy = st.number_input(\"Accuracy (0 to 1)\", min_value=0.0, max_value=1.0, step=0.01)\n",
    "correct_percentage = st.number_input(\"Correct Percentage (0 to 100)\", min_value=0.0, max_value=100.0, step=0.1)\n",
    "difficulty_adjusted_score = st.number_input(\"Difficulty Adjusted Score\", min_value=0.0)\n",
    "trophy_level = st.selectbox(\"Trophy Level\", [\"Bronze\", \"Silver\", \"Gold\"])\n",
    "\n",
    "# Encode trophy level\n",
    "trophy_mapping = {\"Bronze\": 0, \"Silver\": 1, \"Gold\": 2}\n",
    "trophy_level_encoded = trophy_mapping[trophy_level]\n",
    "\n",
    "# Predict button\n",
    "if st.button(\"Predict Rank\"):\n",
    "    if model:\n",
    "        try:\n",
    "            # Prepare input array with the selected features\n",
    "            features = np.array([\n",
    "                score, accuracy, correct_percentage, difficulty_adjusted_score, trophy_level_encoded\n",
    "            ]).reshape(1, -1)\n",
    "\n",
    "            # Make prediction\n",
    "            predicted_rank = model.predict(features)[0]\n",
    "\n",
    "            # Display prediction\n",
    "            st.success(f\"🏆 Predicted NEET Rank: {int(predicted_rank)}\")\n",
    "\n",
    "        except Exception as e:\n",
    "            st.error(f\"Prediction error: {e}\")\n",
    "    else:\n",
    "        st.error(\"Model not loaded. Check if 'best_rf_model.pkl' exists.\")\n"
   ]
  },
  {
   "cell_type": "code",
   "execution_count": 13,
   "metadata": {},
   "outputs": [],
   "source": [
    "import pickle\n",
    "\n",
    "# Save the model\n",
    "with open(\"best_rf_model.pkl\", \"wb\") as f:\n",
    "    pickle.dump(best_rf_model, f)"
   ]
  },
  {
   "cell_type": "code",
   "execution_count": null,
   "metadata": {},
   "outputs": [],
   "source": []
  }
 ],
 "metadata": {
  "kernelspec": {
   "display_name": "base",
   "language": "python",
   "name": "python3"
  },
  "language_info": {
   "codemirror_mode": {
    "name": "ipython",
    "version": 3
   },
   "file_extension": ".py",
   "mimetype": "text/x-python",
   "name": "python",
   "nbconvert_exporter": "python",
   "pygments_lexer": "ipython3",
   "version": "3.12.5"
  }
 },
 "nbformat": 4,
 "nbformat_minor": 2
}
